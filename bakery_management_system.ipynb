{
 "cells": [
  {
   "cell_type": "code",
   "execution_count": 13,
   "metadata": {},
   "outputs": [],
   "source": [
    "# Import the necessary libraries\n",
    "import pandas as pd\n",
    "import numpy as np\n",
    "import datetime as datetime\n",
    "\n",
    "# Create an empty DataFrame for orders with an auto-incrementing Order ID\n",
    "columns = ['Order_ID','Customer_Name','Order_Date','Food_Items','Quantities']\n",
    "orders_df=pd.DataFrame(columns=columns)\n",
    "order_id_counter =1\n",
    "\n",
    "# Function to capture a new order with auto-generated Order ID\n",
    "def capture_order():\n",
    "    global order_id_counter\n",
    "    order_id =order_id_counter\n",
    "    order_id_counter += 1\n",
    "\n",
    "    customer_name = input('Enter Customer Name:')\n",
    "    order_date=datetime.time()\n",
    "    # strftime('%Y-%m-%d %H:%M:%S')\n",
    "\n",
    "    food_items =input('Enter Food Items (comma separated):').split(',')\n",
    "    quantities =input('Enter quantities for (comma separated):').split(',')\n",
    "\n",
    "    order_data = {'Order_ID': order_id,\n",
    "                  'Customer_Name': customer_name,\n",
    "                  'Order_Date': order_date,\n",
    "                  'Food_Items': food_items,\n",
    "                  'Quantities': quantities}\n",
    "    orders_df.loc[len(orders_df)] = order_data\n",
    "    print(\"Order captured successfully\")        "
   ]
  },
  {
   "cell_type": "code",
   "execution_count": 17,
   "metadata": {},
   "outputs": [],
   "source": [
    "# Function to retrieve order based on Order ID\n",
    "def retrieve_order(order_id):\n",
    "    order = orders_df[orders_df['Order_ID'] == order_id]\n",
    "    if not order.empty:\n",
    "        print(order)\n",
    "    else:\n",
    "        print(f\"No order found with Order ID {order_id}\")\n"
   ]
  },
  {
   "cell_type": "markdown",
   "metadata": {},
   "source": [
    "To Capture Order"
   ]
  },
  {
   "cell_type": "code",
   "execution_count": 14,
   "metadata": {},
   "outputs": [
    {
     "name": "stdout",
     "output_type": "stream",
     "text": [
      "Order captured successfully\n"
     ]
    }
   ],
   "source": [
    "capture_order()"
   ]
  },
  {
   "cell_type": "markdown",
   "metadata": {},
   "source": [
    "Display Orders"
   ]
  },
  {
   "cell_type": "code",
   "execution_count": 19,
   "metadata": {},
   "outputs": [
    {
     "name": "stdout",
     "output_type": "stream",
     "text": [
      "   Order_ID Customer_Name Order_Date Food_Items Quantities\n",
      "0         1        SumitN   00:00:00     [Milk]        [1]\n"
     ]
    }
   ],
   "source": [
    "print(orders_df)"
   ]
  },
  {
   "cell_type": "code",
   "execution_count": 23,
   "metadata": {},
   "outputs": [
    {
     "name": "stdout",
     "output_type": "stream",
     "text": [
      "   Order_ID Customer_Name Order_Date Food_Items Quantities\n",
      "0         1        SumitN   00:00:00     [Milk]        [1]\n"
     ]
    }
   ],
   "source": [
    "order_id_to_retrieve = int(input(\"Enter Order ID to retrieve: \"))\n",
    "retrieve_order(order_id_to_retrieve)"
   ]
  },
  {
   "cell_type": "code",
   "execution_count": 24,
   "metadata": {},
   "outputs": [],
   "source": [
    "# Function to edit an existing order\n",
    "def edit_order(order_id):\n",
    "    global orders_df\n",
    "    \n",
    "    # Check if the order with the given Order ID exists\n",
    "    if order_id not in orders_df['Order_ID'].values:\n",
    "        print(f\"No order found with Order ID {order_id}\")\n",
    "        return\n",
    "    \n",
    "    # Display the existing order for reference\n",
    "    print(\"Existing Order:\")\n",
    "    print(orders_df[orders_df['Order_ID'] == order_id])\n",
    "    \n",
    "    # Capture the updated information\n",
    "    customer_name = input(\"Enter Updated Customer Name (press Enter to keep the current value): \")\n",
    "    food_items = input(\"Enter Updated Food Items (comma-separated, press Enter to keep the current value): \")\n",
    "    quantities = input(\"Enter Updated Quantities (comma-separated, press Enter to keep the current value): \")\n",
    "    \n",
    "    # Update the order information\n",
    "    orders_df.loc[orders_df['Order_ID'] == order_id, 'Customer_Name'] = customer_name if customer_name else orders_df.loc[orders_df['Order_ID'] == order_id, 'Customer_Name'].values[0]\n",
    "    orders_df.loc[orders_df['Order_ID'] == order_id, 'Food_Items'] = food_items.split(',') if food_items else orders_df.loc[orders_df['Order_ID'] == order_id, 'Food_Items'].values[0]\n",
    "    orders_df.loc[orders_df['Order_ID'] == order_id, 'Quantities'] = quantities.split(',') if quantities else orders_df.loc[orders_df['Order_ID'] == order_id, 'Quantities'].values[0]\n",
    "    \n",
    "    print(\"Order updated successfully!\")\n"
   ]
  },
  {
   "cell_type": "code",
   "execution_count": 25,
   "metadata": {},
   "outputs": [
    {
     "name": "stdout",
     "output_type": "stream",
     "text": [
      "Existing Order:\n",
      "   Order_ID Customer_Name Order_Date Food_Items Quantities\n",
      "0         1        SumitN   00:00:00     [Milk]        [1]\n",
      "Order updated successfully!\n"
     ]
    }
   ],
   "source": [
    "edit_order(1)"
   ]
  },
  {
   "cell_type": "code",
   "execution_count": 26,
   "metadata": {},
   "outputs": [],
   "source": [
    "# Function to display the menu\n",
    "def display_menu():\n",
    "    print(\"\\n===== Bakery Management System Menu =====\")\n",
    "    print(\"1. Capture New Order\")\n",
    "    print(\"2. Retrieve Order by Order ID\")\n",
    "    print(\"3. Edit Existing Order\")\n",
    "    print(\"4. Exit\")"
   ]
  },
  {
   "cell_type": "code",
   "execution_count": null,
   "metadata": {},
   "outputs": [],
   "source": [
    "# Main program loop\n",
    "while True:\n",
    "    display_menu()\n",
    "    choice = input(\"Enter your choice (1-4): \")\n",
    "\n",
    "    if choice == '1':\n",
    "        capture_order()\n",
    "    elif choice == '2':\n",
    "        order_id_to_retrieve = int(input(\"Enter Order ID to retrieve: \"))\n",
    "        retrieve_order(order_id_to_retrieve)\n",
    "    elif choice == '3':\n",
    "        order_id_to_edit = int(input(\"Enter Order ID to edit: \"))\n",
    "        edit_order(order_id_to_edit)\n",
    "    elif choice == '4':\n",
    "        print(\"Exiting Bakery Management System. Goodbye!\")\n",
    "        break\n",
    "    else:\n",
    "        print(\"Invalid choice. Please enter a number between 1 and 4.\")"
   ]
  },
  {
   "cell_type": "code",
   "execution_count": null,
   "metadata": {},
   "outputs": [],
   "source": [
    "#"
   ]
  }
 ],
 "metadata": {
  "kernelspec": {
   "display_name": "Python 3",
   "language": "python",
   "name": "python3"
  },
  "language_info": {
   "codemirror_mode": {
    "name": "ipython",
    "version": 3
   },
   "file_extension": ".py",
   "mimetype": "text/x-python",
   "name": "python",
   "nbconvert_exporter": "python",
   "pygments_lexer": "ipython3",
   "version": "3.11.2"
  }
 },
 "nbformat": 4,
 "nbformat_minor": 2
}
